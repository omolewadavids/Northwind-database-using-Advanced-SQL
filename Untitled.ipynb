{
 "cells": [
  {
   "cell_type": "code",
   "execution_count": null,
   "metadata": {},
   "outputs": [],
   "source": [
    "pip install ipython-sql"
   ]
  },
  {
   "cell_type": "code",
   "execution_count": 1,
   "metadata": {},
   "outputs": [],
   "source": [
    "%load_ext sql"
   ]
  },
  {
   "cell_type": "code",
   "execution_count": 17,
   "metadata": {},
   "outputs": [
    {
     "data": {
      "text/plain": [
       "'Connected: @/Users/adara/module3/dsc-mod-3-project-atlanta-ds-091619/Northwind_small.sqlite'"
      ]
     },
     "execution_count": 17,
     "metadata": {},
     "output_type": "execute_result"
    }
   ],
   "source": [
    "%sql sqlite:////Users/adara/module3/dsc-mod-3-project-atlanta-ds-091619/Northwind_small.sqlite"
   ]
  },
  {
   "cell_type": "code",
   "execution_count": 22,
   "metadata": {},
   "outputs": [
    {
     "name": "stdout",
     "output_type": "stream",
     "text": [
      "   sqlite://\n",
      " * sqlite:////Users/adara/module3/dsc-mod-3-project-atlanta-ds-091619/Northwind_small.sqlite\n",
      "Done.\n"
     ]
    },
    {
     "data": {
      "text/html": [
       "<table>\n",
       "    <tr>\n",
       "        <th>name</th>\n",
       "        <th>sql</th>\n",
       "    </tr>\n",
       "    <tr>\n",
       "        <td>Category</td>\n",
       "        <td>CREATE TABLE &quot;Category&quot; <br>(<br>  &quot;Id&quot; INTEGER PRIMARY KEY, <br>  &quot;CategoryName&quot; VARCHAR(8000) NULL, <br>  &quot;Description&quot; VARCHAR(8000) NULL <br>)</td>\n",
       "    </tr>\n",
       "    <tr>\n",
       "        <td>Customer</td>\n",
       "        <td>CREATE TABLE &quot;Customer&quot; <br>(<br>  &quot;Id&quot; VARCHAR(8000) PRIMARY KEY, <br>  &quot;CompanyName&quot; VARCHAR(8000) NULL, <br>  &quot;ContactName&quot; VARCHAR(8000) NULL, <br>  &quot;ContactTitle&quot; VARCHAR(8000) NULL, <br>  &quot;Address&quot; VARCHAR(8000) NULL, <br>  &quot;City&quot; VARCHAR(8000) NULL, <br>  &quot;Region&quot; VARCHAR(8000) NULL, <br>  &quot;PostalCode&quot; VARCHAR(8000) NULL, <br>  &quot;Country&quot; VARCHAR(8000) NULL, <br>  &quot;Phone&quot; VARCHAR(8000) NULL, <br>  &quot;Fax&quot; VARCHAR(8000) NULL <br>)</td>\n",
       "    </tr>\n",
       "    <tr>\n",
       "        <td>CustomerCustomerDemo</td>\n",
       "        <td>CREATE TABLE &quot;CustomerCustomerDemo&quot; <br>(<br>  &quot;Id&quot; VARCHAR(8000) PRIMARY KEY, <br>  &quot;CustomerTypeId&quot; VARCHAR(8000) NULL <br>)</td>\n",
       "    </tr>\n",
       "    <tr>\n",
       "        <td>CustomerDemographic</td>\n",
       "        <td>CREATE TABLE &quot;CustomerDemographic&quot; <br>(<br>  &quot;Id&quot; VARCHAR(8000) PRIMARY KEY, <br>  &quot;CustomerDesc&quot; VARCHAR(8000) NULL <br>)</td>\n",
       "    </tr>\n",
       "    <tr>\n",
       "        <td>Employee</td>\n",
       "        <td>CREATE TABLE &quot;Employee&quot; <br>(<br>  &quot;Id&quot; INTEGER PRIMARY KEY, <br>  &quot;LastName&quot; VARCHAR(8000) NULL, <br>  &quot;FirstName&quot; VARCHAR(8000) NULL, <br>  &quot;Title&quot; VARCHAR(8000) NULL, <br>  &quot;TitleOfCourtesy&quot; VARCHAR(8000) NULL, <br>  &quot;BirthDate&quot; VARCHAR(8000) NULL, <br>  &quot;HireDate&quot; VARCHAR(8000) NULL, <br>  &quot;Address&quot; VARCHAR(8000) NULL, <br>  &quot;City&quot; VARCHAR(8000) NULL, <br>  &quot;Region&quot; VARCHAR(8000) NULL, <br>  &quot;PostalCode&quot; VARCHAR(8000) NULL, <br>  &quot;Country&quot; VARCHAR(8000) NULL, <br>  &quot;HomePhone&quot; VARCHAR(8000) NULL, <br>  &quot;Extension&quot; VARCHAR(8000) NULL, <br>  &quot;Photo&quot; BLOB NULL, <br>  &quot;Notes&quot; VARCHAR(8000) NULL, <br>  &quot;ReportsTo&quot; INTEGER NULL, <br>  &quot;PhotoPath&quot; VARCHAR(8000) NULL <br>)</td>\n",
       "    </tr>\n",
       "    <tr>\n",
       "        <td>EmployeeTerritory</td>\n",
       "        <td>CREATE TABLE &quot;EmployeeTerritory&quot; <br>(<br>  &quot;Id&quot; VARCHAR(8000) PRIMARY KEY, <br>  &quot;EmployeeId&quot; INTEGER NOT NULL, <br>  &quot;TerritoryId&quot; VARCHAR(8000) NULL <br>)</td>\n",
       "    </tr>\n",
       "    <tr>\n",
       "        <td>Order</td>\n",
       "        <td>CREATE TABLE &quot;Order&quot; <br>(<br>  &quot;Id&quot; INTEGER PRIMARY KEY, <br>  &quot;CustomerId&quot; VARCHAR(8000) NULL, <br>  &quot;EmployeeId&quot; INTEGER NOT NULL, <br>  &quot;OrderDate&quot; VARCHAR(8000) NULL, <br>  &quot;RequiredDate&quot; VARCHAR(8000) NULL, <br>  &quot;ShippedDate&quot; VARCHAR(8000) NULL, <br>  &quot;ShipVia&quot; INTEGER NULL, <br>  &quot;Freight&quot; DECIMAL NOT NULL, <br>  &quot;ShipName&quot; VARCHAR(8000) NULL, <br>  &quot;ShipAddress&quot; VARCHAR(8000) NULL, <br>  &quot;ShipCity&quot; VARCHAR(8000) NULL, <br>  &quot;ShipRegion&quot; VARCHAR(8000) NULL, <br>  &quot;ShipPostalCode&quot; VARCHAR(8000) NULL, <br>  &quot;ShipCountry&quot; VARCHAR(8000) NULL <br>)</td>\n",
       "    </tr>\n",
       "    <tr>\n",
       "        <td>OrderDetail</td>\n",
       "        <td>CREATE TABLE &quot;OrderDetail&quot; <br>(<br>  &quot;Id&quot; VARCHAR(8000) PRIMARY KEY, <br>  &quot;OrderId&quot; INTEGER NOT NULL, <br>  &quot;ProductId&quot; INTEGER NOT NULL, <br>  &quot;UnitPrice&quot; DECIMAL NOT NULL, <br>  &quot;Quantity&quot; INTEGER NOT NULL, <br>  &quot;Discount&quot; DOUBLE NOT NULL <br>)</td>\n",
       "    </tr>\n",
       "    <tr>\n",
       "        <td>Product</td>\n",
       "        <td>CREATE TABLE &quot;Product&quot; <br>(<br>  &quot;Id&quot; INTEGER PRIMARY KEY, <br>  &quot;ProductName&quot; VARCHAR(8000) NULL, <br>  &quot;SupplierId&quot; INTEGER NOT NULL, <br>  &quot;CategoryId&quot; INTEGER NOT NULL, <br>  &quot;QuantityPerUnit&quot; VARCHAR(8000) NULL, <br>  &quot;UnitPrice&quot; DECIMAL NOT NULL, <br>  &quot;UnitsInStock&quot; INTEGER NOT NULL, <br>  &quot;UnitsOnOrder&quot; INTEGER NOT NULL, <br>  &quot;ReorderLevel&quot; INTEGER NOT NULL, <br>  &quot;Discontinued&quot; INTEGER NOT NULL <br>)</td>\n",
       "    </tr>\n",
       "    <tr>\n",
       "        <td>Region</td>\n",
       "        <td>CREATE TABLE &quot;Region&quot; <br>(<br>  &quot;Id&quot; INTEGER PRIMARY KEY, <br>  &quot;RegionDescription&quot; VARCHAR(8000) NULL <br>)</td>\n",
       "    </tr>\n",
       "    <tr>\n",
       "        <td>Shipper</td>\n",
       "        <td>CREATE TABLE &quot;Shipper&quot; <br>(<br>  &quot;Id&quot; INTEGER PRIMARY KEY, <br>  &quot;CompanyName&quot; VARCHAR(8000) NULL, <br>  &quot;Phone&quot; VARCHAR(8000) NULL <br>)</td>\n",
       "    </tr>\n",
       "    <tr>\n",
       "        <td>Supplier</td>\n",
       "        <td>CREATE TABLE &quot;Supplier&quot; <br>(<br>  &quot;Id&quot; INTEGER PRIMARY KEY, <br>  &quot;CompanyName&quot; VARCHAR(8000) NULL, <br>  &quot;ContactName&quot; VARCHAR(8000) NULL, <br>  &quot;ContactTitle&quot; VARCHAR(8000) NULL, <br>  &quot;Address&quot; VARCHAR(8000) NULL, <br>  &quot;City&quot; VARCHAR(8000) NULL, <br>  &quot;Region&quot; VARCHAR(8000) NULL, <br>  &quot;PostalCode&quot; VARCHAR(8000) NULL, <br>  &quot;Country&quot; VARCHAR(8000) NULL, <br>  &quot;Phone&quot; VARCHAR(8000) NULL, <br>  &quot;Fax&quot; VARCHAR(8000) NULL, <br>  &quot;HomePage&quot; VARCHAR(8000) NULL <br>)</td>\n",
       "    </tr>\n",
       "    <tr>\n",
       "        <td>Territory</td>\n",
       "        <td>CREATE TABLE &quot;Territory&quot; <br>(<br>  &quot;Id&quot; VARCHAR(8000) PRIMARY KEY, <br>  &quot;TerritoryDescription&quot; VARCHAR(8000) NULL, <br>  &quot;RegionId&quot; INTEGER NOT NULL <br>)</td>\n",
       "    </tr>\n",
       "</table>"
      ],
      "text/plain": [
       "[('Category', 'CREATE TABLE \"Category\" \\n(\\n  \"Id\" INTEGER PRIMARY KEY, \\n  \"CategoryName\" VARCHAR(8000) NULL, \\n  \"Description\" VARCHAR(8000) NULL \\n)'),\n",
       " ('Customer', 'CREATE TABLE \"Customer\" \\n(\\n  \"Id\" VARCHAR(8000) PRIMARY KEY, \\n  \"CompanyName\" VARCHAR(8000) NULL, \\n  \"ContactName\" VARCHAR(8000) NULL, \\n  \"Conta ... (113 characters truncated) ... R(8000) NULL, \\n  \"PostalCode\" VARCHAR(8000) NULL, \\n  \"Country\" VARCHAR(8000) NULL, \\n  \"Phone\" VARCHAR(8000) NULL, \\n  \"Fax\" VARCHAR(8000) NULL \\n)'),\n",
       " ('CustomerCustomerDemo', 'CREATE TABLE \"CustomerCustomerDemo\" \\n(\\n  \"Id\" VARCHAR(8000) PRIMARY KEY, \\n  \"CustomerTypeId\" VARCHAR(8000) NULL \\n)'),\n",
       " ('CustomerDemographic', 'CREATE TABLE \"CustomerDemographic\" \\n(\\n  \"Id\" VARCHAR(8000) PRIMARY KEY, \\n  \"CustomerDesc\" VARCHAR(8000) NULL \\n)'),\n",
       " ('Employee', 'CREATE TABLE \"Employee\" \\n(\\n  \"Id\" INTEGER PRIMARY KEY, \\n  \"LastName\" VARCHAR(8000) NULL, \\n  \"FirstName\" VARCHAR(8000) NULL, \\n  \"Title\" VARCHAR(8 ... (339 characters truncated) ... sion\" VARCHAR(8000) NULL, \\n  \"Photo\" BLOB NULL, \\n  \"Notes\" VARCHAR(8000) NULL, \\n  \"ReportsTo\" INTEGER NULL, \\n  \"PhotoPath\" VARCHAR(8000) NULL \\n)'),\n",
       " ('EmployeeTerritory', 'CREATE TABLE \"EmployeeTerritory\" \\n(\\n  \"Id\" VARCHAR(8000) PRIMARY KEY, \\n  \"EmployeeId\" INTEGER NOT NULL, \\n  \"TerritoryId\" VARCHAR(8000) NULL \\n)'),\n",
       " ('Order', 'CREATE TABLE \"Order\" \\n(\\n  \"Id\" INTEGER PRIMARY KEY, \\n  \"CustomerId\" VARCHAR(8000) NULL, \\n  \"EmployeeId\" INTEGER NOT NULL, \\n  \"OrderDate\" VARCHAR ... (227 characters truncated) ... \"ShipCity\" VARCHAR(8000) NULL, \\n  \"ShipRegion\" VARCHAR(8000) NULL, \\n  \"ShipPostalCode\" VARCHAR(8000) NULL, \\n  \"ShipCountry\" VARCHAR(8000) NULL \\n)'),\n",
       " ('OrderDetail', 'CREATE TABLE \"OrderDetail\" \\n(\\n  \"Id\" VARCHAR(8000) PRIMARY KEY, \\n  \"OrderId\" INTEGER NOT NULL, \\n  \"ProductId\" INTEGER NOT NULL, \\n  \"UnitPrice\" DECIMAL NOT NULL, \\n  \"Quantity\" INTEGER NOT NULL, \\n  \"Discount\" DOUBLE NOT NULL \\n)'),\n",
       " ('Product', 'CREATE TABLE \"Product\" \\n(\\n  \"Id\" INTEGER PRIMARY KEY, \\n  \"ProductName\" VARCHAR(8000) NULL, \\n  \"SupplierId\" INTEGER NOT NULL, \\n  \"CategoryId\" INT ... (92 characters truncated) ... n  \"UnitsInStock\" INTEGER NOT NULL, \\n  \"UnitsOnOrder\" INTEGER NOT NULL, \\n  \"ReorderLevel\" INTEGER NOT NULL, \\n  \"Discontinued\" INTEGER NOT NULL \\n)'),\n",
       " ('Region', 'CREATE TABLE \"Region\" \\n(\\n  \"Id\" INTEGER PRIMARY KEY, \\n  \"RegionDescription\" VARCHAR(8000) NULL \\n)'),\n",
       " ('Shipper', 'CREATE TABLE \"Shipper\" \\n(\\n  \"Id\" INTEGER PRIMARY KEY, \\n  \"CompanyName\" VARCHAR(8000) NULL, \\n  \"Phone\" VARCHAR(8000) NULL \\n)'),\n",
       " ('Supplier', 'CREATE TABLE \"Supplier\" \\n(\\n  \"Id\" INTEGER PRIMARY KEY, \\n  \"CompanyName\" VARCHAR(8000) NULL, \\n  \"ContactName\" VARCHAR(8000) NULL, \\n  \"ContactTitl ... (142 characters truncated) ... HAR(8000) NULL, \\n  \"Country\" VARCHAR(8000) NULL, \\n  \"Phone\" VARCHAR(8000) NULL, \\n  \"Fax\" VARCHAR(8000) NULL, \\n  \"HomePage\" VARCHAR(8000) NULL \\n)'),\n",
       " ('Territory', 'CREATE TABLE \"Territory\" \\n(\\n  \"Id\" VARCHAR(8000) PRIMARY KEY, \\n  \"TerritoryDescription\" VARCHAR(8000) NULL, \\n  \"RegionId\" INTEGER NOT NULL \\n)')]"
      ]
     },
     "execution_count": 22,
     "metadata": {},
     "output_type": "execute_result"
    }
   ],
   "source": [
    "%sql SELECT name, sql FROM sqlite_master WHERE type ='table' ORDER BY name;"
   ]
  },
  {
   "cell_type": "code",
   "execution_count": 14,
   "metadata": {},
   "outputs": [
    {
     "name": "stdout",
     "output_type": "stream",
     "text": [
      "   sqlite://\n",
      " * sqlite:////Users/adara/module3/dsc-mod-3-project-atlanta-ds-091619/Northwind_small.sqlite\n",
      "(sqlite3.OperationalError) no such table: dbo\n",
      "[SQL: select * from dbo]\n",
      "(Background on this error at: http://sqlalche.me/e/e3q8)\n"
     ]
    }
   ],
   "source": [
    "%%sql\n",
    "select * from dbo"
   ]
  },
  {
   "cell_type": "code",
   "execution_count": 15,
   "metadata": {},
   "outputs": [
    {
     "name": "stdout",
     "output_type": "stream",
     "text": [
      "   sqlite://\n",
      " * sqlite:////Users/adara/module3/dsc-mod-3-project-atlanta-ds-091619/Northwind_small.sqlite\n",
      "(sqlite3.OperationalError) near \"show\": syntax error\n",
      "[SQL: show schema]\n",
      "(Background on this error at: http://sqlalche.me/e/e3q8)\n"
     ]
    }
   ],
   "source": [
    "%sql show schema"
   ]
  },
  {
   "cell_type": "code",
   "execution_count": null,
   "metadata": {},
   "outputs": [],
   "source": []
  }
 ],
 "metadata": {
  "kernelspec": {
   "display_name": "Python 3",
   "language": "python",
   "name": "python3"
  },
  "language_info": {
   "codemirror_mode": {
    "name": "ipython",
    "version": 3
   },
   "file_extension": ".py",
   "mimetype": "text/x-python",
   "name": "python",
   "nbconvert_exporter": "python",
   "pygments_lexer": "ipython3",
   "version": "3.7.3"
  }
 },
 "nbformat": 4,
 "nbformat_minor": 2
}
